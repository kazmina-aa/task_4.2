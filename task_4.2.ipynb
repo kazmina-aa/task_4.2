{
 "cells": [
  {
   "cell_type": "code",
   "execution_count": 433,
   "metadata": {},
   "outputs": [],
   "source": [
    "file_data = '9.txt'\n",
    "data = []\n",
    "with open(file_data) as f:\n",
    "    for line in f:\n",
    "        data.append([float(x) for x in line.split()])\n",
    "data = list(filter(None, data))\n",
    "max_weight = data[0][0]\n",
    "max_size = data[0][1]\n",
    "\n",
    "del data[0]"
   ]
  },
  {
   "cell_type": "code",
   "execution_count": 434,
   "metadata": {},
   "outputs": [],
   "source": [
    "import random"
   ]
  },
  {
   "cell_type": "markdown",
   "metadata": {},
   "source": [
    "### Случайная генерация"
   ]
  },
  {
   "cell_type": "code",
   "execution_count": 435,
   "metadata": {},
   "outputs": [],
   "source": [
    "#def random_generation():\n",
    "#    simple_list = [0,1]\n",
    "#    random_generation = []\n",
    "#    for i in range(200):\n",
    "#        random_generation.append(random.choices(simple_list, k=30))\n",
    "#    return random_generation"
   ]
  },
  {
   "cell_type": "markdown",
   "metadata": {},
   "source": [
    "### Выбор 20% особей для скрещивания"
   ]
  },
  {
   "cell_type": "code",
   "execution_count": 436,
   "metadata": {},
   "outputs": [],
   "source": [
    "def fitness_func(percent, random_generation):\n",
    "    fitness = []\n",
    "    for i in range(len(random_generation)):\n",
    "        sum_weight, sum_size, price = 0,0,0\n",
    "        for k in range(30):\n",
    "            sum_weight += random_generation[i][k] * data[k][0]\n",
    "            sum_size += random_generation[i][k] * data[k][1]\n",
    "            price += random_generation[i][k]*data[k][2]\n",
    "            k = k+1\n",
    "        if (sum_weight<=max_weight) and (sum_size<=max_size):\n",
    "            fitness.append(price)\n",
    "        else:\n",
    "            fitness.append(0)\n",
    "        i = i+1\n",
    "    fitness_sort = sorted(fitness, reverse=True)\n",
    "    fitness_sort_percent = []\n",
    "    for i in range(int(percent*len(fitness_sort))):\n",
    "        fitness_sort_percent.append(fitness_sort[i])\n",
    "    random_generation_percent = []\n",
    "    for i in range(len(fitness)):\n",
    "        if (fitness[i] in fitness_sort_percent) and (fitness[i]>0):\n",
    "            random_generation_percent.append(random_generation[i])\n",
    "        i = i+1\n",
    "    return random_generation_percent"
   ]
  },
  {
   "cell_type": "markdown",
   "metadata": {},
   "source": [
    "### Многоточечное скрещивание"
   ]
  },
  {
   "cell_type": "code",
   "execution_count": 437,
   "metadata": {},
   "outputs": [],
   "source": [
    "def crossing(random_generation_twenty):\n",
    "    descendants = []\n",
    "    for i in range(0, len(random_generation_twenty)-1, 2):\n",
    "        descendant1 = []\n",
    "        descendant2 = []\n",
    "        descendant1.extend(random_generation_twenty[i][0:10])\n",
    "        descendant1.extend(random_generation_twenty[i+1][10:20])\n",
    "        descendant1.extend(random_generation_twenty[i][20:30])\n",
    "        descendant2.extend(random_generation_twenty[i+1][0:10])\n",
    "        descendant2.extend(random_generation_twenty[i][10:20])\n",
    "        descendant2.extend(random_generation_twenty[i+1][20:30])\n",
    "        descendants.append(descendant1)\n",
    "        descendants.append(descendant2)\n",
    "    return descendants"
   ]
  },
  {
   "cell_type": "markdown",
   "metadata": {},
   "source": [
    "### Мутация: добавление 1 случайной вещи 5% особей"
   ]
  },
  {
   "cell_type": "code",
   "execution_count": 438,
   "metadata": {},
   "outputs": [],
   "source": [
    "def mutation(descendants):\n",
    "    mutated_descendants = descendants\n",
    "    for i in range(int(0.05*len(mutated_descendants))):\n",
    "        random_bit = random.randint(0,29)\n",
    "        if mutated_descendants[i][random_bit] == 0:\n",
    "                mutated_descendants[i][random_bit] = 1\n",
    "#         else:\n",
    "#             while (mutated_descendants[i][random_bit] != 0) and (random_bit<30):\n",
    "#                 random_bit = random_bit+1\n",
    "#             mutated_descendants[i][random_bit] = 1\n",
    "    return mutated_descendants"
   ]
  },
  {
   "cell_type": "markdown",
   "metadata": {},
   "source": [
    "###  Замена 20% худших особей из предыдущего поколения на лучших потомков "
   ]
  },
  {
   "cell_type": "code",
   "execution_count": 439,
   "metadata": {},
   "outputs": [],
   "source": [
    "def formation_new_population(random_generation_twenty, mutated_descendants):\n",
    "    random_generation_eighty_best = fitness_func(0.8, random_generation_twenty)\n",
    "    descendants_twenty_best = fitness_func(0.2, mutated_descendants)\n",
    "    new_population = []\n",
    "    new_population = random_generation_eighty_best + descendants_twenty_best\n",
    "    return new_population"
   ]
  },
  {
   "cell_type": "code",
   "execution_count": 440,
   "metadata": {},
   "outputs": [],
   "source": [
    "def fitness_func_best_individual(new_population):\n",
    "    best_sum_weight = 0 \n",
    "    best_sum_size = 0\n",
    "    best_price = 0\n",
    "    best_collection = []\n",
    "    for i in range(len(new_population)):\n",
    "        sum_weight = 0 \n",
    "        sum_size = 0\n",
    "        price = 0\n",
    "        for k in range(30):\n",
    "            sum_weight += new_population[i][k] * data[k][0]\n",
    "            sum_size += new_population[i][k] * data[k][1]\n",
    "            price += new_population[i][k]*data[k][2]\n",
    "            k = k+1\n",
    "        if (sum_weight<=max_weight) and (sum_size<=max_size) and (price>best_price):\n",
    "            best_price = price\n",
    "            best_sum_weight = sum_weight\n",
    "            best_sum_size = sum_size\n",
    "            best_collection = new_population[i]\n",
    "        i = i+1\n",
    "    return best_collection"
   ]
  },
  {
   "cell_type": "code",
   "execution_count": 441,
   "metadata": {},
   "outputs": [],
   "source": [
    "def calculation_price_best_collection(best_collection):\n",
    "    price_best_collection = 0\n",
    "    for k in range(30):\n",
    "        price_best_collection += best_collection[k]*data[k][2]\n",
    "        k = k+1\n",
    "    return price_best_collection"
   ]
  },
  {
   "cell_type": "code",
   "execution_count": 466,
   "metadata": {},
   "outputs": [],
   "source": [
    "old_price_best_collection = 0\n",
    "new_price_best_collection = 0\n",
    "c = 500\n",
    "min_price = 0\n",
    "all_price = []\n",
    "while (c>0) and abs(old_price_best_collection - new_price_best_collection) >= min_price:\n",
    "    for i in range (len(data)):\n",
    "        all_price.append(data[i][2])\n",
    "    min_price = min(all_price)\n",
    "    old_price_best_collection = new_price_best_collection\n",
    "    simple_list = [0,1]\n",
    "    random_generation = []\n",
    "    for i in range(200):\n",
    "        random_generation.append(random.choices(simple_list, k=30))\n",
    "    random_generation_twenty = fitness_func(0.2, random_generation)\n",
    "    descendants = crossing(random_generation_twenty)\n",
    "    mutated_descendants = mutation(descendants)\n",
    "    new_population = formation_new_population(random_generation_twenty, mutated_descendants)\n",
    "    best_collection = fitness_func_best_individual(new_population)\n",
    "    new_price_best_collection = calculation_price_best_collection(best_collection)\n",
    "    c -= 1\n",
    "sum_weight, sum_size, sum_price = 0,0,0\n",
    "res = []\n",
    "for i in range (len(best_collection)):\n",
    "    sum_weight += best_collection[i] * data[i][0]\n",
    "    sum_size += best_collection[i] * data[i][1]\n",
    "    sum_price += best_collection[i] * data[i][2]\n",
    "    if best_collection[i] == 1:\n",
    "        res.append([i, data[i][0], data[i][1], data[i][2]])"
   ]
  },
  {
   "cell_type": "code",
   "execution_count": 468,
   "metadata": {},
   "outputs": [
    {
     "name": "stdout",
     "output_type": "stream",
     "text": [
      "Грузоподъёмность рюкзака: 13000.0 \n",
      "Вес сложенного груза: 12743.0 \n",
      "Вместимость рюкзака: 12.0 \n",
      "Объем сложенного груза: 8.9 \n",
      "Ценность сложенного груза: 3821.0\n"
     ]
    },
    {
     "data": {
      "text/plain": [
       "[[0, 816.0, 0.4, 356.0],\n",
       " [1, 1236.0, 0.5, 202.0],\n",
       " [2, 1391.0, 0.5, 294.0],\n",
       " [4, 475.0, 0.9, 225.0],\n",
       " [7, 1526.0, 0.6, 356.0],\n",
       " [10, 1518.0, 0.8, 369.0],\n",
       " [12, 1216.0, 0.6, 251.0],\n",
       " [16, 149.0, 0.5, 370.0],\n",
       " [18, 607.0, 0.7, 359.0],\n",
       " [20, 950.0, 0.6, 207.0],\n",
       " [21, 1342.0, 1.1, 317.0],\n",
       " [27, 128.0, 0.9, 384.0],\n",
       " [28, 1389.0, 0.8, 131.0]]"
      ]
     },
     "execution_count": 468,
     "metadata": {},
     "output_type": "execute_result"
    }
   ],
   "source": [
    "print(\"Грузоподъёмность рюкзака:\", max_weight, \"\\nВес сложенного груза:\", sum_weight, \n",
    "\"\\nВместимость рюкзака:\", max_size, \"\\nОбъем сложенного груза:\", sum_size, \n",
    "\"\\nЦенность сложенного груза:\", sum_price)\n",
    "res"
   ]
  },
  {
   "cell_type": "code",
   "execution_count": null,
   "metadata": {},
   "outputs": [],
   "source": []
  }
 ],
 "metadata": {
  "kernelspec": {
   "display_name": "Python 3",
   "language": "python",
   "name": "python3"
  },
  "language_info": {
   "codemirror_mode": {
    "name": "ipython",
    "version": 3
   },
   "file_extension": ".py",
   "mimetype": "text/x-python",
   "name": "python",
   "nbconvert_exporter": "python",
   "pygments_lexer": "ipython3",
   "version": "3.8.5"
  }
 },
 "nbformat": 4,
 "nbformat_minor": 4
}
